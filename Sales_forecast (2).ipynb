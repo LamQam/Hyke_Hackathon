{
  "nbformat": 4,
  "nbformat_minor": 0,
  "metadata": {
    "colab": {
      "provenance": []
    },
    "kernelspec": {
      "name": "python3",
      "display_name": "Python 3"
    },
    "language_info": {
      "name": "python"
    }
  },
  "cells": [
    {
      "cell_type": "code",
      "execution_count": null,
      "metadata": {
        "colab": {
          "base_uri": "https://localhost:8080/",
          "height": 36
        },
        "id": "n_FjI0p6Xuco",
        "outputId": "891ee179-b570-4276-f275-e47e3e2fd9e0"
      },
      "outputs": [
        {
          "output_type": "execute_result",
          "data": {
            "text/plain": [
              "'2.0.1+cu118'"
            ],
            "application/vnd.google.colaboratory.intrinsic+json": {
              "type": "string"
            }
          },
          "metadata": {},
          "execution_count": 45
        }
      ],
      "source": [
        "# Import PyTorch libraries\n",
        "import torch\n",
        "from torch import nn\n",
        "\n",
        "# Import visualization library\n",
        "import matplotlib.pyplot as plt\n",
        "\n",
        "# Verify PyTorch version\n",
        "torch.__version__"
      ]
    },
    {
      "cell_type": "code",
      "source": [
        "# Check to see if we have a GPU to use for training\n",
        "device = 'cuda' if torch.cuda.is_available() else 'cpu'\n",
        "print('A {} device was detected.'.format(device))\n",
        "\n",
        "# Print the name of the cuda device, if detected\n",
        "if device=='cuda':\n",
        "  print (torch.cuda.get_device_name(device=device))"
      ],
      "metadata": {
        "colab": {
          "base_uri": "https://localhost:8080/"
        },
        "id": "N7wYygKSX57Q",
        "outputId": "73a2723f-ec1b-489c-dfd1-1562f4feaa04"
      },
      "execution_count": null,
      "outputs": [
        {
          "output_type": "stream",
          "name": "stdout",
          "text": [
            "A cpu device was detected.\n"
          ]
        }
      ]
    },
    {
      "cell_type": "code",
      "source": [
        "# Use Pandas to do our dataprocessing on the dataset, start by downloading the dataset\n",
        "import pandas as pd\n",
        "\n",
        "df = pd.read_csv('phonedata.csv')\n",
        "\n",
        "# Explore the first 10 rows of the dataset\n",
        "print(df.head(10))\n",
        "\n",
        "# Check the size/shape of our dataset\n",
        "df.shape"
      ],
      "metadata": {
        "colab": {
          "base_uri": "https://localhost:8080/"
        },
        "id": "VjcaTvgTZ64n",
        "outputId": "173e1a09-9cbe-4156-a699-c562b9abb9da"
      },
      "execution_count": null,
      "outputs": [
        {
          "output_type": "stream",
          "name": "stdout",
          "text": [
            "   Weekend  Discount  Ratings  High_season  Price  NumberSold\n",
            "0        1         0        0            1      9          71\n",
            "1        1         1        1            0     10         137\n",
            "2        0         1        0            0     10           0\n",
            "3        1         0        0            1      6         107\n",
            "4        1         0        0            1      8          80\n",
            "5        1         1        0            0      6         110\n",
            "6        1         1        1            0      8         167\n",
            "7        0         0        1            1      8           0\n",
            "8        1         0        1            0      8         124\n",
            "9        1         1        0            0      7          95\n"
          ]
        },
        {
          "output_type": "execute_result",
          "data": {
            "text/plain": [
              "(365, 6)"
            ]
          },
          "metadata": {},
          "execution_count": 47
        }
      ]
    },
    {
      "cell_type": "code",
      "source": [
        "# Calculate the mean and standard deviation of the price column, then standardize the price column\n",
        "priceMean = df['Price'].mean()\n",
        "priceStd = df['Price'].std()\n",
        "df['Price'] = (df['Price']-priceMean)/priceStd\n",
        "\n",
        "# Calculate the mean and standard deviation of the numSold column, then standardize numSold\n",
        "numSoldMean = df['NumberSold'].mean()\n",
        "numSoldStd = df['NumberSold'].std()\n",
        "df['NumberSold'] = (df['NumberSold']-numSoldMean)/numSoldStd"
      ],
      "metadata": {
        "id": "TZBrG7KJaEod"
      },
      "execution_count": null,
      "outputs": []
    },
    {
      "cell_type": "code",
      "source": [
        "# Create our PyTorch tensors and move to CPU or GPU if available\n",
        "# Extract the inputs and create a PyTorch tensor x (inputs)\n",
        "inputs = ['Weekend','Discount','Ratings','High_season','Price']\n",
        "x = torch.tensor(df[inputs].values,dtype=torch.float, device=device)\n",
        "\n",
        "# Extract the outputs and create a PyTorch tensor y (outputs)\n",
        "outputs = ['NumberSold']\n",
        "y = torch.tensor(df[outputs].values,dtype=torch.float, device=device)\n",
        "\n",
        "# Explore the first 5 inputs\n",
        "x[0:5]\n",
        "# Explore the first 5 outputs\n",
        "y[0:5]"
      ],
      "metadata": {
        "id": "872-rBpAaU9t",
        "colab": {
          "base_uri": "https://localhost:8080/"
        },
        "outputId": "c5f9111f-4c40-4ec6-f516-75290962d0a0"
      },
      "execution_count": null,
      "outputs": [
        {
          "output_type": "execute_result",
          "data": {
            "text/plain": [
              "tensor([[-0.0237],\n",
              "        [ 0.7437],\n",
              "        [-0.8492],\n",
              "        [ 0.3949],\n",
              "        [ 0.0810]])"
            ]
          },
          "metadata": {},
          "execution_count": 49
        }
      ]
    },
    {
      "cell_type": "code",
      "source": [
        "# Define your PyTorch neural network\n",
        "# Number of Inputs: 5\n",
        "# Number of Hidden Units: 100\n",
        "# Number of Hidden Layers: 1\n",
        "# Activation Function:  Relu\n",
        "# Number of Outputs: 1\n",
        "\n",
        "model = nn.Sequential(\n",
        "            nn.Linear(5,100),\n",
        "            nn.ReLU(),\n",
        "            nn.Linear(100,1)\n",
        "        )"
      ],
      "metadata": {
        "id": "6EI5mfGNaXl6"
      },
      "execution_count": null,
      "outputs": []
    },
    {
      "cell_type": "code",
      "source": [
        "import torch.optim as optim\n",
        "\n",
        "# Measure our neural network by mean square error\n",
        "criterion = torch.nn.MSELoss()\n",
        "\n",
        "# Train our network with a simple SGD optimizer\n",
        "optimizer = optim.SGD(model.parameters(), lr=0.01, momentum=0.9)\n",
        "\n",
        "# Train our network a using the entire dataset 5 times\n",
        "for epoch in range(5):\n",
        "    totalLoss = 0\n",
        "    for i in range(len(x)):\n",
        "       # Single Forward Pass\n",
        "        ypred = model(x[i])\n",
        "\n",
        "        # Measure how well the model predicted vs the actual value\n",
        "        loss = criterion(ypred, y[i])\n",
        "\n",
        "        # Track how well the model predicted (called loss)\n",
        "        totalLoss+=loss.item()\n",
        "\n",
        "        # Update the neural network\n",
        "        optimizer.zero_grad()\n",
        "        loss.backward()\n",
        "        optimizer.step()\n",
        "\n",
        "    # Print out our loss after each training iteration\n",
        "    print (\"Total Loss: \", totalLoss)"
      ],
      "metadata": {
        "id": "N6wazJ_Xae0C",
        "colab": {
          "base_uri": "https://localhost:8080/"
        },
        "outputId": "6cfb3b4b-9aed-42ac-90ad-99aea38f594a"
      },
      "execution_count": null,
      "outputs": [
        {
          "output_type": "stream",
          "name": "stdout",
          "text": [
            "Total Loss:  94.21472778098293\n",
            "Total Loss:  8.48878577569258\n",
            "Total Loss:  4.784574268146915\n",
            "Total Loss:  3.5464918195994244\n",
            "Total Loss:  3.1372207547670428\n"
          ]
        }
      ]
    },
    {
      "cell_type": "code",
      "source": [
        "# Plot predictions vs. true values\n",
        "@torch.no_grad()\n",
        "def graphPredictions(model, x, y , minValue, maxValue):\n",
        "    model.eval()                               # Set the model to inference mode\n",
        "\n",
        "    predictions=[]                             # Track predictions\n",
        "    actual=[]                                  # Track the actual labels\n",
        "\n",
        "    x.to(device)\n",
        "    y.to(device)\n",
        "    model.to(device)\n",
        "\n",
        "    for i in range(len(x)):\n",
        "        # Single forward pass\n",
        "        pred = model(x[i])\n",
        "\n",
        "        # Un-normalize our prediction\n",
        "        pred = pred*numSoldStd+numSoldMean\n",
        "        act = y[i]*numSoldStd+numSoldMean\n",
        "\n",
        "        # Save prediction and actual label\n",
        "        predictions.append(pred.tolist())\n",
        "        actual.append(act.item())\n",
        "\n",
        "    # Plot actuals vs predictions\n",
        "    plt.scatter(actual, predictions)\n",
        "    plt.xlabel('Actual IPHONE13 Sold')\n",
        "    plt.ylabel('Predicted IPHONE13 Sold')\n",
        "    plt.plot([minValue,maxValue], [minValue,maxValue])\n",
        "    plt.xlim(minValue, maxValue)\n",
        "    plt.ylim(minValue, maxValue)\n",
        "\n",
        "    # Make the display equal in both dimensions\n",
        "    plt.gca().set_aspect('equal', adjustable='box')\n",
        "    plt.show()\n",
        "\n",
        "graphPredictions(model, x, y, 0, 300)"
      ],
      "metadata": {
        "id": "zCu8iFSPa70A",
        "colab": {
          "base_uri": "https://localhost:8080/",
          "height": 455
        },
        "outputId": "cbd15316-7945-4658-c2bf-b888ae04306b"
      },
      "execution_count": null,
      "outputs": [
        {
          "output_type": "display_data",
          "data": {
            "text/plain": [
              "<Figure size 640x480 with 1 Axes>"
            ],
            "image/png": "[encoded data removed]"
          },
          "metadata": {}
        }
      ]
    },
    {
      "cell_type": "code",
      "source": [
        "# Below we use the synthetic data generator formula to\n",
        "# determine what the actual result should have been.\n",
        "def datasetGenerator(weekend, discount, ratings, High_season, price):\n",
        "    numphonessold = 0\n",
        "    if weekend:\n",
        "        numphonessold = (discount*5  + int(500 / price))\n",
        "        if High_season:\n",
        "            numphonessold = 1.3 * numphonessold\n",
        "        if ratings:\n",
        "            numphonessold = 2 * numphonessold\n",
        "        if discount:\n",
        "            numphonessold = 1.25 * numphonessold\n",
        "    numphonessold = int(numphonessold)\n",
        "\n",
        "    return numphonessold\n",
        "\n",
        "# Data that affects the number of phones sold in one day\n",
        "weekend = 1\n",
        "discount = 0\n",
        "ratings = 0\n",
        "High_season = 1\n",
        "price = 5\n",
        "\n",
        "# Calculate what would have been the actual result using\n",
        "# the synthetic dataset's algorithm\n",
        "actual = datasetGenerator(weekend, discount, ratings, High_season, price)\n",
        "\n",
        "# Use the CPU as we just need to do a single pass\n",
        "model.to('cpu')\n",
        "\n",
        "# Normalize our inputs using the same values for our training\n",
        "price = (price - priceMean) / priceStd\n",
        "\n",
        "# Create our input tensor\n",
        "x1 = torch.tensor([weekend, discount, ratings, High_season, price],dtype=float)\n",
        "\n",
        "# Pass the input into the neural network\n",
        "y1 = model(x1.float())\n",
        "\n",
        "# Un-normalize our output y1\n",
        "y1 = y1*numSoldStd+numSoldMean\n",
        "\n",
        "# Compare what your network predicted to the actual\n",
        "print (\"Neural Network Predicts: \", y1.item())\n",
        "print (\"Actual Result: \", actual)"
      ],
      "metadata": {
        "id": "QdIxTAnLbHnR",
        "colab": {
          "base_uri": "https://localhost:8080/"
        },
        "outputId": "255a56a5-9a79-4d39-ee50-b508ea5df0ac"
      },
      "execution_count": null,
      "outputs": [
        {
          "output_type": "stream",
          "name": "stdout",
          "text": [
            "Neural Network Predicts:  132.7284393310547\n",
            "Actual Result:  130\n"
          ]
        }
      ]
    }
  ]
}